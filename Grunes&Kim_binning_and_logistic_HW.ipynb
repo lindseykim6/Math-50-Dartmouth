{
  "nbformat": 4,
  "nbformat_minor": 0,
  "metadata": {
    "colab": {
      "name": "Grunes&Kim binning_and_logistic_HW.ipynb",
      "provenance": [],
      "collapsed_sections": [],
      "toc_visible": true
    },
    "kernelspec": {
      "name": "python3",
      "display_name": "Python 3"
    },
    "language_info": {
      "name": "python"
    }
  },
  "cells": [
    {
      "cell_type": "code",
      "metadata": {
        "id": "07k6g0kI2p0-",
        "colab": {
          "base_uri": "https://localhost:8080/"
        },
        "outputId": "055ac6d2-e2ee-4b33-fd61-a8e8c29d3f55"
      },
      "source": [
        "import numpy as np\n",
        "import pandas as pd\n",
        "import statsmodels.api as sm\n",
        "import matplotlib.pyplot as plt\n",
        "%config InlineBackend.figure_format = \"svg\"\n",
        "from pymc3 import *\n",
        "import arviz as az"
      ],
      "execution_count": null,
      "outputs": [
        {
          "output_type": "stream",
          "name": "stderr",
          "text": [
            "/usr/local/lib/python3.7/dist-packages/statsmodels/tools/_testing.py:19: FutureWarning: pandas.util.testing is deprecated. Use the functions in the public API at pandas.testing instead.\n",
            "  import pandas.util.testing as tm\n"
          ]
        }
      ]
    },
    {
      "cell_type": "markdown",
      "metadata": {
        "id": "sQPL5RIC2ucv"
      },
      "source": [
        "# Simpson's paradox\n",
        "\n",
        "In class we saw how binning, or pooling data, in order to covert a binary variable into a fraction can give missleading results due to an effect known as **Simpson's paradox**. Simpson's paradox arrises when the association of a variable **within** a group is different from the association **between** groups. There are many examples where people have been mislead by this effect.\n",
        "\n",
        "\n",
        "**Exercises**\n",
        "\n",
        "\n",
        "\n",
        "1.1 Read [this](https://www.washingtonpost.com/outlook/2021/08/31/covid-israel-hospitalization-rates-simpsons-paradox/) article (you may need to access it through the library). Think about the connection to regression modeling and binning. \n",
        "\n",
        "Why could it be misleading to study the fraction of hospitalizations or severe illnesses as a function of the fraction of people vaccinated across different countries? \n",
        "\n",
        "1.2 The following code (loosely inspired by the article) will generate some simulated data for 100 hypothetical countries with similar population sizes. In each country we have data for covid cases, their vaccination status and whether their case was severe. Although their age group (whether they are over 60), was used to generate the data, we are pretending we don't have access to that information. We then bin the data by country. This is exactly the type of simulation which can be helpful when we want to test our regression model on data where we *know* the underlying model.\n",
        "\n",
        "\n",
        "\n",
        "```\n",
        "n_cases = 50000\n",
        "country =  np.random.choice(range(100),size=n_cases)\n",
        "\n",
        "# the chance that someone is over 60 depends strongly on the country\n",
        "# for half the countries 0.7 percent of people will be over 60\n",
        "# for the other hald it is 0.1\n",
        "q_over60 = np.array([0.1 if c <50 else 0.7 for c in country])\n",
        "\n",
        "# determine whether people are over 60\n",
        "over60 = np.array([np.random.choice([0,1],p=[1-q,q]) for q in q_over60])\n",
        "\n",
        "# the  chance to be vaccinated depends on whether someone is over 60\n",
        "q_vax = 0.8*over60 + 0.3*(1-over60)\n",
        "vax = np.array([np.random.choice([0,1],p=[1-q,q]) for q in q_vax])\n",
        "\n",
        "# the chance to have a severe case depends on whether someone is vaccinated and over 60\n",
        "q_sev = 0.2*over60*(1-vax) + 0.015*over60*vax + 0.0004*(1-over60)*vax + 0.01*(1-over60)*(1-vax)\n",
        "sev= np.array([np.random.choice([0,1],p=[1-q,q]) for q in q_sev])\n",
        "\n",
        "# put everything in a dataframe\n",
        "data =pd.DataFrame(np.transpose(np.array([sev,vax,country])),columns = [\"sev\",\"vax\",\"country\"])\n",
        "data\n",
        "\n",
        "countries = np.unique(data.country)\n",
        "x = [] # fraction of cases vaccinated\n",
        "y = []  # fraction of cases with severe illness\n",
        "for c in countries:\n",
        "  cdata = data[data.country ==c]\n",
        "  y.append(np.mean(cdata.sev)*100))\n",
        "  x.append(np.mean(cdata.vax)*100)\n",
        "\n",
        "```\n",
        "\n",
        "\n",
        "\n",
        "Show that if we fit the data to a linear regression model in statsmodels after binning by country and computing the fraction of servere cases, we obtain a possitive association between the fraction of people vaccinated and the fraction of severe cases. (This is assuming we don't use age as a predictor). In particular, explain the interpretation of the regression coefficient you get. \n",
        "\n",
        "1.3 After fitting the model make a residual plot. Does anything about the residual plot suggest that this model will not yield accurate predictions for the average number of severe cases in a country given the fraction of people vaccinated? \n",
        "\n",
        "1.4 (optional) Copy and paste the code used to generate the data and make a new dataframe called `data_test`. Using the new data, compute the fraction of people vaccinated and the fraction of severe cases within each country. Test how well the fitted model can predicted the fraction of severe cases by making a plot of the predicted fraction vs. the actual fraction for each country. Comment on this plot. What do you notice about the relationship between the predictions and the actualy fractions? \n",
        "\n",
        "1.5 (optional) Read [this](https://www.bostonglobe.com/2020/06/11/opinion/statistical-paradox-police-killings/) article. Think about the connection to regression modeling and binning. If we frame the example given in this article as a linear regression problem, what are the predictors and what is the response variable in this context? If interested, try generating some simulated data to help you better understand the example. \n",
        "\n"
      ]
    },
    {
      "cell_type": "markdown",
      "metadata": {
        "id": "ZkXZddIdmVvh"
      },
      "source": [
        "1.1\n",
        "\n",
        "If we study the fraction of hospitalizations or severe illnesses as a function of the fraction of people vaccinated across different countries, then we could disguise the variation within countries when we group all people from each country together. As seen in the article, demographics differ between countries. Some countries may have a lot more elderly people which can lead to more hopsitalizations regardless of vaccination status. Thus, a country with a high demographic of older people may have a higher fraction of hospitalizations despite having a higher fraction of people vaccinated than a country with a demogaphic of younger people. However, if we look within each city, we find that for older people who are vaccinated, there is a lower rate of hospitalizations compared to older people who aren't vaccinated. This applies to younger people as well. For younger people who are vaccinated, there is a lower rate of hospitalizations compared to younger people who aren't vaccinated. The sheer population size can also affect the statistics in terms of vaccination rates and hospitalization rates. Thus, if we find that more vaccinated people are being hospitalized than unvaxxed, it may just be because of larger number of elderly people that disproportionately represents the vaccinated population. Combining all of the countries' demographics could easily lead to a misrepresentation of hospitalization rates within countries. "
      ]
    },
    {
      "cell_type": "code",
      "metadata": {
        "colab": {
          "base_uri": "https://localhost:8080/"
        },
        "id": "25N8yPoJmbx5",
        "outputId": "13a9c231-2d9f-4666-c942-a7919e89f03d"
      },
      "source": [
        "# 1.2\n",
        "\n",
        "n_cases = 50000\n",
        "country =  np.random.choice(range(100),size=n_cases)\n",
        "\n",
        "# the chance that someone is over 60 depends strongly on the country\n",
        "# for half the countries 0.7 percent of people will be over 60\n",
        "# for the other hald it is 0.1\n",
        "q_over60 = np.array([0.1 if c <50 else 0.7 for c in country])\n",
        "\n",
        "# determine whether people are over 60\n",
        "over60 = np.array([np.random.choice([0,1],p=[1-q,q]) for q in q_over60])\n",
        "\n",
        "# the  chance to be vaccinated depends on whether someone is over 60\n",
        "q_vax = 0.8*over60 + 0.3*(1-over60)\n",
        "vax = np.array([np.random.choice([0,1],p=[1-q,q]) for q in q_vax])\n",
        "\n",
        "# the chance to have a severe case depends on whether someone is vaccinated and over 60\n",
        "q_sev = 0.2*over60*(1-vax) + 0.015*over60*vax + 0.0004*(1-over60)*vax + 0.01*(1-over60)*(1-vax)\n",
        "sev= np.array([np.random.choice([0,1],p=[1-q,q]) for q in q_sev])\n",
        "\n",
        "# put everything in a dataframe\n",
        "data =pd.DataFrame(np.transpose(np.array([sev,vax,country])),columns = [\"sev\",\"vax\",\"country\"])\n",
        "data\n",
        "\n",
        "countries = np.unique(data.country)\n",
        "x = [] # fraction of cases vaccinated\n",
        "y = []  # fraction of cases with severe illness\n",
        "for c in countries:\n",
        "  cdata = data[data.country ==c]\n",
        "  y.append(np.mean(cdata.sev)*100)\n",
        "  x.append(np.mean(cdata.vax)*100)\n",
        "\n",
        "sm_model = sm.OLS(y,sm.add_constant(x))\n",
        "results = sm_model.fit()\n",
        "print(results.summary())\n"
      ],
      "execution_count": null,
      "outputs": [
        {
          "output_type": "stream",
          "name": "stdout",
          "text": [
            "                            OLS Regression Results                            \n",
            "==============================================================================\n",
            "Dep. Variable:                      y   R-squared:                       0.748\n",
            "Model:                            OLS   Adj. R-squared:                  0.745\n",
            "Method:                 Least Squares   F-statistic:                     290.7\n",
            "Date:                Thu, 18 Nov 2021   Prob (F-statistic):           4.43e-31\n",
            "Time:                        16:29:13   Log-Likelihood:                -112.59\n",
            "No. Observations:                 100   AIC:                             229.2\n",
            "Df Residuals:                      98   BIC:                             234.4\n",
            "Df Model:                           1                                         \n",
            "Covariance Type:            nonrobust                                         \n",
            "==============================================================================\n",
            "                 coef    std err          t      P>|t|      [0.025      0.975]\n",
            "------------------------------------------------------------------------------\n",
            "const         -1.8033      0.259     -6.970      0.000      -2.317      -1.290\n",
            "x1             0.0844      0.005     17.050      0.000       0.075       0.094\n",
            "==============================================================================\n",
            "Omnibus:                       26.418   Durbin-Watson:                   2.199\n",
            "Prob(Omnibus):                  0.000   Jarque-Bera (JB):               93.467\n",
            "Skew:                           0.770   Prob(JB):                     5.06e-21\n",
            "Kurtosis:                       7.479   Cond. No.                         179.\n",
            "==============================================================================\n",
            "\n",
            "Warnings:\n",
            "[1] Standard Errors assume that the covariance matrix of the errors is correctly specified.\n"
          ]
        }
      ]
    },
    {
      "cell_type": "markdown",
      "metadata": {
        "id": "cvJdHYadv5jG"
      },
      "source": [
        "As we see here, we find our correlation coefficient to be about 0.08, which means that for every 1 person increase in vaccinated status, there is a 0.08 increase in severe Covid cases. In other words, for every increase of 100 vaccinated cases, there is an increase of 8 severe cases."
      ]
    },
    {
      "cell_type": "code",
      "metadata": {
        "colab": {
          "base_uri": "https://localhost:8080/",
          "height": 315
        },
        "id": "Wc6ng1nHmeTA",
        "outputId": "dd5ed9a5-8ec4-4b00-dab3-0d8c9ffbd364"
      },
      "source": [
        "# 1.3\n",
        "\n",
        "r = results.resid\n",
        "y_mean_pred = y-r\n",
        "\n",
        "fig,ax = plt.subplots(figsize=(7,3))\n",
        "ax.plot(y_mean_pred,r,\"o\")\n",
        "ax.plot(y_mean_pred,np.zeros(len(y)),\"-\")\n",
        "ax.set_xlabel(\"y (prediction)\")\n",
        "ax.set_ylabel(\"residual\")"
      ],
      "execution_count": null,
      "outputs": [
        {
          "output_type": "execute_result",
          "data": {
            "text/plain": [
              "Text(0, 0.5, 'residual')"
            ]
          },
          "metadata": {},
          "execution_count": 3
        },
        {
          "output_type": "display_data",
          "data": {
            "text/plain": [
              "<Figure size 504x216 with 1 Axes>"
            ],
            "image/svg+xml": "<?xml version=\"1.0\" encoding=\"utf-8\" standalone=\"no\"?>\n<!DOCTYPE svg PUBLIC \"-//W3C//DTD SVG 1.1//EN\"\n  \"http://www.w3.org/Graphics/SVG/1.1/DTD/svg11.dtd\">\n<!-- Created with matplotlib (https://matplotlib.org/) -->\n<svg height=\"207.83625pt\" version=\"1.1\" viewBox=\"0 0 440.420313 207.83625\" width=\"440.420313pt\" xmlns=\"http://www.w3.org/2000/svg\" xmlns:xlink=\"http://www.w3.org/1999/xlink\">\n <defs>\n  <style type=\"text/css\">\n*{stroke-linecap:butt;stroke-linejoin:round;}\n  </style>\n </defs>\n <g id=\"figure_1\">\n  <g id=\"patch_1\">\n   <path d=\"M 0 207.83625 \nL 440.420313 207.83625 \nL 440.420313 0 \nL 0 0 \nz\n\" style=\"fill:none;\"/>\n  </g>\n  <g id=\"axes_1\">\n   <g id=\"patch_2\">\n    <path d=\"M 42.620312 170.28 \nL 433.220313 170.28 \nL 433.220313 7.2 \nL 42.620312 7.2 \nz\n\" style=\"fill:#ffffff;\"/>\n   </g>\n   <g id=\"matplotlib.axis_1\">\n    <g id=\"xtick_1\">\n     <g id=\"line2d_1\">\n      <defs>\n       <path d=\"M 0 0 \nL 0 3.5 \n\" id=\"m9163cfadc5\" style=\"stroke:#000000;stroke-width:0.8;\"/>\n      </defs>\n      <g>\n       <use style=\"stroke:#000000;stroke-width:0.8;\" x=\"82.996609\" xlink:href=\"#m9163cfadc5\" y=\"170.28\"/>\n      </g>\n     </g>\n     <g id=\"text_1\">\n      <!-- 1.0 -->\n      <defs>\n       <path d=\"M 12.40625 8.296875 \nL 28.515625 8.296875 \nL 28.515625 63.921875 \nL 10.984375 60.40625 \nL 10.984375 69.390625 \nL 28.421875 72.90625 \nL 38.28125 72.90625 \nL 38.28125 8.296875 \nL 54.390625 8.296875 \nL 54.390625 0 \nL 12.40625 0 \nz\n\" id=\"DejaVuSans-49\"/>\n       <path d=\"M 10.6875 12.40625 \nL 21 12.40625 \nL 21 0 \nL 10.6875 0 \nz\n\" id=\"DejaVuSans-46\"/>\n       <path d=\"M 31.78125 66.40625 \nQ 24.171875 66.40625 20.328125 58.90625 \nQ 16.5 51.421875 16.5 36.375 \nQ 16.5 21.390625 20.328125 13.890625 \nQ 24.171875 6.390625 31.78125 6.390625 \nQ 39.453125 6.390625 43.28125 13.890625 \nQ 47.125 21.390625 47.125 36.375 \nQ 47.125 51.421875 43.28125 58.90625 \nQ 39.453125 66.40625 31.78125 66.40625 \nz\nM 31.78125 74.21875 \nQ 44.046875 74.21875 50.515625 64.515625 \nQ 56.984375 54.828125 56.984375 36.375 \nQ 56.984375 17.96875 50.515625 8.265625 \nQ 44.046875 -1.421875 31.78125 -1.421875 \nQ 19.53125 -1.421875 13.0625 8.265625 \nQ 6.59375 17.96875 6.59375 36.375 \nQ 6.59375 54.828125 13.0625 64.515625 \nQ 19.53125 74.21875 31.78125 74.21875 \nz\n\" id=\"DejaVuSans-48\"/>\n      </defs>\n      <g transform=\"translate(75.045047 184.878438)scale(0.1 -0.1)\">\n       <use xlink:href=\"#DejaVuSans-49\"/>\n       <use x=\"63.623047\" xlink:href=\"#DejaVuSans-46\"/>\n       <use x=\"95.410156\" xlink:href=\"#DejaVuSans-48\"/>\n      </g>\n     </g>\n    </g>\n    <g id=\"xtick_2\">\n     <g id=\"line2d_2\">\n      <g>\n       <use style=\"stroke:#000000;stroke-width:0.8;\" x=\"135.646823\" xlink:href=\"#m9163cfadc5\" y=\"170.28\"/>\n      </g>\n     </g>\n     <g id=\"text_2\">\n      <!-- 1.5 -->\n      <defs>\n       <path d=\"M 10.796875 72.90625 \nL 49.515625 72.90625 \nL 49.515625 64.59375 \nL 19.828125 64.59375 \nL 19.828125 46.734375 \nQ 21.96875 47.46875 24.109375 47.828125 \nQ 26.265625 48.1875 28.421875 48.1875 \nQ 40.625 48.1875 47.75 41.5 \nQ 54.890625 34.8125 54.890625 23.390625 \nQ 54.890625 11.625 47.5625 5.09375 \nQ 40.234375 -1.421875 26.90625 -1.421875 \nQ 22.3125 -1.421875 17.546875 -0.640625 \nQ 12.796875 0.140625 7.71875 1.703125 \nL 7.71875 11.625 \nQ 12.109375 9.234375 16.796875 8.0625 \nQ 21.484375 6.890625 26.703125 6.890625 \nQ 35.15625 6.890625 40.078125 11.328125 \nQ 45.015625 15.765625 45.015625 23.390625 \nQ 45.015625 31 40.078125 35.4375 \nQ 35.15625 39.890625 26.703125 39.890625 \nQ 22.75 39.890625 18.8125 39.015625 \nQ 14.890625 38.140625 10.796875 36.28125 \nz\n\" id=\"DejaVuSans-53\"/>\n      </defs>\n      <g transform=\"translate(127.69526 184.878438)scale(0.1 -0.1)\">\n       <use xlink:href=\"#DejaVuSans-49\"/>\n       <use x=\"63.623047\" xlink:href=\"#DejaVuSans-46\"/>\n       <use x=\"95.410156\" xlink:href=\"#DejaVuSans-53\"/>\n      </g>\n     </g>\n    </g>\n    <g id=\"xtick_3\">\n     <g id=\"line2d_3\">\n      <g>\n       <use style=\"stroke:#000000;stroke-width:0.8;\" x=\"188.297036\" xlink:href=\"#m9163cfadc5\" y=\"170.28\"/>\n      </g>\n     </g>\n     <g id=\"text_3\">\n      <!-- 2.0 -->\n      <defs>\n       <path d=\"M 19.1875 8.296875 \nL 53.609375 8.296875 \nL 53.609375 0 \nL 7.328125 0 \nL 7.328125 8.296875 \nQ 12.9375 14.109375 22.625 23.890625 \nQ 32.328125 33.6875 34.8125 36.53125 \nQ 39.546875 41.84375 41.421875 45.53125 \nQ 43.3125 49.21875 43.3125 52.78125 \nQ 43.3125 58.59375 39.234375 62.25 \nQ 35.15625 65.921875 28.609375 65.921875 \nQ 23.96875 65.921875 18.8125 64.3125 \nQ 13.671875 62.703125 7.8125 59.421875 \nL 7.8125 69.390625 \nQ 13.765625 71.78125 18.9375 73 \nQ 24.125 74.21875 28.421875 74.21875 \nQ 39.75 74.21875 46.484375 68.546875 \nQ 53.21875 62.890625 53.21875 53.421875 \nQ 53.21875 48.921875 51.53125 44.890625 \nQ 49.859375 40.875 45.40625 35.40625 \nQ 44.1875 33.984375 37.640625 27.21875 \nQ 31.109375 20.453125 19.1875 8.296875 \nz\n\" id=\"DejaVuSans-50\"/>\n      </defs>\n      <g transform=\"translate(180.345474 184.878438)scale(0.1 -0.1)\">\n       <use xlink:href=\"#DejaVuSans-50\"/>\n       <use x=\"63.623047\" xlink:href=\"#DejaVuSans-46\"/>\n       <use x=\"95.410156\" xlink:href=\"#DejaVuSans-48\"/>\n      </g>\n     </g>\n    </g>\n    <g id=\"xtick_4\">\n     <g id=\"line2d_4\">\n      <g>\n       <use style=\"stroke:#000000;stroke-width:0.8;\" x=\"240.94725\" xlink:href=\"#m9163cfadc5\" y=\"170.28\"/>\n      </g>\n     </g>\n     <g id=\"text_4\">\n      <!-- 2.5 -->\n      <g transform=\"translate(232.995687 184.878438)scale(0.1 -0.1)\">\n       <use xlink:href=\"#DejaVuSans-50\"/>\n       <use x=\"63.623047\" xlink:href=\"#DejaVuSans-46\"/>\n       <use x=\"95.410156\" xlink:href=\"#DejaVuSans-53\"/>\n      </g>\n     </g>\n    </g>\n    <g id=\"xtick_5\">\n     <g id=\"line2d_5\">\n      <g>\n       <use style=\"stroke:#000000;stroke-width:0.8;\" x=\"293.597463\" xlink:href=\"#m9163cfadc5\" y=\"170.28\"/>\n      </g>\n     </g>\n     <g id=\"text_5\">\n      <!-- 3.0 -->\n      <defs>\n       <path d=\"M 40.578125 39.3125 \nQ 47.65625 37.796875 51.625 33 \nQ 55.609375 28.21875 55.609375 21.1875 \nQ 55.609375 10.40625 48.1875 4.484375 \nQ 40.765625 -1.421875 27.09375 -1.421875 \nQ 22.515625 -1.421875 17.65625 -0.515625 \nQ 12.796875 0.390625 7.625 2.203125 \nL 7.625 11.71875 \nQ 11.71875 9.328125 16.59375 8.109375 \nQ 21.484375 6.890625 26.8125 6.890625 \nQ 36.078125 6.890625 40.9375 10.546875 \nQ 45.796875 14.203125 45.796875 21.1875 \nQ 45.796875 27.640625 41.28125 31.265625 \nQ 36.765625 34.90625 28.71875 34.90625 \nL 20.21875 34.90625 \nL 20.21875 43.015625 \nL 29.109375 43.015625 \nQ 36.375 43.015625 40.234375 45.921875 \nQ 44.09375 48.828125 44.09375 54.296875 \nQ 44.09375 59.90625 40.109375 62.90625 \nQ 36.140625 65.921875 28.71875 65.921875 \nQ 24.65625 65.921875 20.015625 65.03125 \nQ 15.375 64.15625 9.8125 62.3125 \nL 9.8125 71.09375 \nQ 15.4375 72.65625 20.34375 73.4375 \nQ 25.25 74.21875 29.59375 74.21875 \nQ 40.828125 74.21875 47.359375 69.109375 \nQ 53.90625 64.015625 53.90625 55.328125 \nQ 53.90625 49.265625 50.4375 45.09375 \nQ 46.96875 40.921875 40.578125 39.3125 \nz\n\" id=\"DejaVuSans-51\"/>\n      </defs>\n      <g transform=\"translate(285.645901 184.878438)scale(0.1 -0.1)\">\n       <use xlink:href=\"#DejaVuSans-51\"/>\n       <use x=\"63.623047\" xlink:href=\"#DejaVuSans-46\"/>\n       <use x=\"95.410156\" xlink:href=\"#DejaVuSans-48\"/>\n      </g>\n     </g>\n    </g>\n    <g id=\"xtick_6\">\n     <g id=\"line2d_6\">\n      <g>\n       <use style=\"stroke:#000000;stroke-width:0.8;\" x=\"346.247677\" xlink:href=\"#m9163cfadc5\" y=\"170.28\"/>\n      </g>\n     </g>\n     <g id=\"text_6\">\n      <!-- 3.5 -->\n      <g transform=\"translate(338.296114 184.878438)scale(0.1 -0.1)\">\n       <use xlink:href=\"#DejaVuSans-51\"/>\n       <use x=\"63.623047\" xlink:href=\"#DejaVuSans-46\"/>\n       <use x=\"95.410156\" xlink:href=\"#DejaVuSans-53\"/>\n      </g>\n     </g>\n    </g>\n    <g id=\"xtick_7\">\n     <g id=\"line2d_7\">\n      <g>\n       <use style=\"stroke:#000000;stroke-width:0.8;\" x=\"398.89789\" xlink:href=\"#m9163cfadc5\" y=\"170.28\"/>\n      </g>\n     </g>\n     <g id=\"text_7\">\n      <!-- 4.0 -->\n      <defs>\n       <path d=\"M 37.796875 64.3125 \nL 12.890625 25.390625 \nL 37.796875 25.390625 \nz\nM 35.203125 72.90625 \nL 47.609375 72.90625 \nL 47.609375 25.390625 \nL 58.015625 25.390625 \nL 58.015625 17.1875 \nL 47.609375 17.1875 \nL 47.609375 0 \nL 37.796875 0 \nL 37.796875 17.1875 \nL 4.890625 17.1875 \nL 4.890625 26.703125 \nz\n\" id=\"DejaVuSans-52\"/>\n      </defs>\n      <g transform=\"translate(390.946328 184.878438)scale(0.1 -0.1)\">\n       <use xlink:href=\"#DejaVuSans-52\"/>\n       <use x=\"63.623047\" xlink:href=\"#DejaVuSans-46\"/>\n       <use x=\"95.410156\" xlink:href=\"#DejaVuSans-48\"/>\n      </g>\n     </g>\n    </g>\n    <g id=\"text_8\">\n     <!-- y (prediction) -->\n     <defs>\n      <path d=\"M 32.171875 -5.078125 \nQ 28.375 -14.84375 24.75 -17.8125 \nQ 21.140625 -20.796875 15.09375 -20.796875 \nL 7.90625 -20.796875 \nL 7.90625 -13.28125 \nL 13.1875 -13.28125 \nQ 16.890625 -13.28125 18.9375 -11.515625 \nQ 21 -9.765625 23.484375 -3.21875 \nL 25.09375 0.875 \nL 2.984375 54.6875 \nL 12.5 54.6875 \nL 29.59375 11.921875 \nL 46.6875 54.6875 \nL 56.203125 54.6875 \nz\n\" id=\"DejaVuSans-121\"/>\n      <path id=\"DejaVuSans-32\"/>\n      <path d=\"M 31 75.875 \nQ 24.46875 64.65625 21.28125 53.65625 \nQ 18.109375 42.671875 18.109375 31.390625 \nQ 18.109375 20.125 21.3125 9.0625 \nQ 24.515625 -2 31 -13.1875 \nL 23.1875 -13.1875 \nQ 15.875 -1.703125 12.234375 9.375 \nQ 8.59375 20.453125 8.59375 31.390625 \nQ 8.59375 42.28125 12.203125 53.3125 \nQ 15.828125 64.359375 23.1875 75.875 \nz\n\" id=\"DejaVuSans-40\"/>\n      <path d=\"M 18.109375 8.203125 \nL 18.109375 -20.796875 \nL 9.078125 -20.796875 \nL 9.078125 54.6875 \nL 18.109375 54.6875 \nL 18.109375 46.390625 \nQ 20.953125 51.265625 25.265625 53.625 \nQ 29.59375 56 35.59375 56 \nQ 45.5625 56 51.78125 48.09375 \nQ 58.015625 40.1875 58.015625 27.296875 \nQ 58.015625 14.40625 51.78125 6.484375 \nQ 45.5625 -1.421875 35.59375 -1.421875 \nQ 29.59375 -1.421875 25.265625 0.953125 \nQ 20.953125 3.328125 18.109375 8.203125 \nz\nM 48.6875 27.296875 \nQ 48.6875 37.203125 44.609375 42.84375 \nQ 40.53125 48.484375 33.40625 48.484375 \nQ 26.265625 48.484375 22.1875 42.84375 \nQ 18.109375 37.203125 18.109375 27.296875 \nQ 18.109375 17.390625 22.1875 11.75 \nQ 26.265625 6.109375 33.40625 6.109375 \nQ 40.53125 6.109375 44.609375 11.75 \nQ 48.6875 17.390625 48.6875 27.296875 \nz\n\" id=\"DejaVuSans-112\"/>\n      <path d=\"M 41.109375 46.296875 \nQ 39.59375 47.171875 37.8125 47.578125 \nQ 36.03125 48 33.890625 48 \nQ 26.265625 48 22.1875 43.046875 \nQ 18.109375 38.09375 18.109375 28.8125 \nL 18.109375 0 \nL 9.078125 0 \nL 9.078125 54.6875 \nL 18.109375 54.6875 \nL 18.109375 46.1875 \nQ 20.953125 51.171875 25.484375 53.578125 \nQ 30.03125 56 36.53125 56 \nQ 37.453125 56 38.578125 55.875 \nQ 39.703125 55.765625 41.0625 55.515625 \nz\n\" id=\"DejaVuSans-114\"/>\n      <path d=\"M 56.203125 29.59375 \nL 56.203125 25.203125 \nL 14.890625 25.203125 \nQ 15.484375 15.921875 20.484375 11.0625 \nQ 25.484375 6.203125 34.421875 6.203125 \nQ 39.59375 6.203125 44.453125 7.46875 \nQ 49.3125 8.734375 54.109375 11.28125 \nL 54.109375 2.78125 \nQ 49.265625 0.734375 44.1875 -0.34375 \nQ 39.109375 -1.421875 33.890625 -1.421875 \nQ 20.796875 -1.421875 13.15625 6.1875 \nQ 5.515625 13.8125 5.515625 26.8125 \nQ 5.515625 40.234375 12.765625 48.109375 \nQ 20.015625 56 32.328125 56 \nQ 43.359375 56 49.78125 48.890625 \nQ 56.203125 41.796875 56.203125 29.59375 \nz\nM 47.21875 32.234375 \nQ 47.125 39.59375 43.09375 43.984375 \nQ 39.0625 48.390625 32.421875 48.390625 \nQ 24.90625 48.390625 20.390625 44.140625 \nQ 15.875 39.890625 15.1875 32.171875 \nz\n\" id=\"DejaVuSans-101\"/>\n      <path d=\"M 45.40625 46.390625 \nL 45.40625 75.984375 \nL 54.390625 75.984375 \nL 54.390625 0 \nL 45.40625 0 \nL 45.40625 8.203125 \nQ 42.578125 3.328125 38.25 0.953125 \nQ 33.9375 -1.421875 27.875 -1.421875 \nQ 17.96875 -1.421875 11.734375 6.484375 \nQ 5.515625 14.40625 5.515625 27.296875 \nQ 5.515625 40.1875 11.734375 48.09375 \nQ 17.96875 56 27.875 56 \nQ 33.9375 56 38.25 53.625 \nQ 42.578125 51.265625 45.40625 46.390625 \nz\nM 14.796875 27.296875 \nQ 14.796875 17.390625 18.875 11.75 \nQ 22.953125 6.109375 30.078125 6.109375 \nQ 37.203125 6.109375 41.296875 11.75 \nQ 45.40625 17.390625 45.40625 27.296875 \nQ 45.40625 37.203125 41.296875 42.84375 \nQ 37.203125 48.484375 30.078125 48.484375 \nQ 22.953125 48.484375 18.875 42.84375 \nQ 14.796875 37.203125 14.796875 27.296875 \nz\n\" id=\"DejaVuSans-100\"/>\n      <path d=\"M 9.421875 54.6875 \nL 18.40625 54.6875 \nL 18.40625 0 \nL 9.421875 0 \nz\nM 9.421875 75.984375 \nL 18.40625 75.984375 \nL 18.40625 64.59375 \nL 9.421875 64.59375 \nz\n\" id=\"DejaVuSans-105\"/>\n      <path d=\"M 48.78125 52.59375 \nL 48.78125 44.1875 \nQ 44.96875 46.296875 41.140625 47.34375 \nQ 37.3125 48.390625 33.40625 48.390625 \nQ 24.65625 48.390625 19.8125 42.84375 \nQ 14.984375 37.3125 14.984375 27.296875 \nQ 14.984375 17.28125 19.8125 11.734375 \nQ 24.65625 6.203125 33.40625 6.203125 \nQ 37.3125 6.203125 41.140625 7.25 \nQ 44.96875 8.296875 48.78125 10.40625 \nL 48.78125 2.09375 \nQ 45.015625 0.34375 40.984375 -0.53125 \nQ 36.96875 -1.421875 32.421875 -1.421875 \nQ 20.0625 -1.421875 12.78125 6.34375 \nQ 5.515625 14.109375 5.515625 27.296875 \nQ 5.515625 40.671875 12.859375 48.328125 \nQ 20.21875 56 33.015625 56 \nQ 37.15625 56 41.109375 55.140625 \nQ 45.0625 54.296875 48.78125 52.59375 \nz\n\" id=\"DejaVuSans-99\"/>\n      <path d=\"M 18.3125 70.21875 \nL 18.3125 54.6875 \nL 36.8125 54.6875 \nL 36.8125 47.703125 \nL 18.3125 47.703125 \nL 18.3125 18.015625 \nQ 18.3125 11.328125 20.140625 9.421875 \nQ 21.96875 7.515625 27.59375 7.515625 \nL 36.8125 7.515625 \nL 36.8125 0 \nL 27.59375 0 \nQ 17.1875 0 13.234375 3.875 \nQ 9.28125 7.765625 9.28125 18.015625 \nL 9.28125 47.703125 \nL 2.6875 47.703125 \nL 2.6875 54.6875 \nL 9.28125 54.6875 \nL 9.28125 70.21875 \nz\n\" id=\"DejaVuSans-116\"/>\n      <path d=\"M 30.609375 48.390625 \nQ 23.390625 48.390625 19.1875 42.75 \nQ 14.984375 37.109375 14.984375 27.296875 \nQ 14.984375 17.484375 19.15625 11.84375 \nQ 23.34375 6.203125 30.609375 6.203125 \nQ 37.796875 6.203125 41.984375 11.859375 \nQ 46.1875 17.53125 46.1875 27.296875 \nQ 46.1875 37.015625 41.984375 42.703125 \nQ 37.796875 48.390625 30.609375 48.390625 \nz\nM 30.609375 56 \nQ 42.328125 56 49.015625 48.375 \nQ 55.71875 40.765625 55.71875 27.296875 \nQ 55.71875 13.875 49.015625 6.21875 \nQ 42.328125 -1.421875 30.609375 -1.421875 \nQ 18.84375 -1.421875 12.171875 6.21875 \nQ 5.515625 13.875 5.515625 27.296875 \nQ 5.515625 40.765625 12.171875 48.375 \nQ 18.84375 56 30.609375 56 \nz\n\" id=\"DejaVuSans-111\"/>\n      <path d=\"M 54.890625 33.015625 \nL 54.890625 0 \nL 45.90625 0 \nL 45.90625 32.71875 \nQ 45.90625 40.484375 42.875 44.328125 \nQ 39.84375 48.1875 33.796875 48.1875 \nQ 26.515625 48.1875 22.3125 43.546875 \nQ 18.109375 38.921875 18.109375 30.90625 \nL 18.109375 0 \nL 9.078125 0 \nL 9.078125 54.6875 \nL 18.109375 54.6875 \nL 18.109375 46.1875 \nQ 21.34375 51.125 25.703125 53.5625 \nQ 30.078125 56 35.796875 56 \nQ 45.21875 56 50.046875 50.171875 \nQ 54.890625 44.34375 54.890625 33.015625 \nz\n\" id=\"DejaVuSans-110\"/>\n      <path d=\"M 8.015625 75.875 \nL 15.828125 75.875 \nQ 23.140625 64.359375 26.78125 53.3125 \nQ 30.421875 42.28125 30.421875 31.390625 \nQ 30.421875 20.453125 26.78125 9.375 \nQ 23.140625 -1.703125 15.828125 -13.1875 \nL 8.015625 -13.1875 \nQ 14.5 -2 17.703125 9.0625 \nQ 20.90625 20.125 20.90625 31.390625 \nQ 20.90625 42.671875 17.703125 53.65625 \nQ 14.5 64.65625 8.015625 75.875 \nz\n\" id=\"DejaVuSans-41\"/>\n     </defs>\n     <g transform=\"translate(204.386719 198.556563)scale(0.1 -0.1)\">\n      <use xlink:href=\"#DejaVuSans-121\"/>\n      <use x=\"59.179688\" xlink:href=\"#DejaVuSans-32\"/>\n      <use x=\"90.966797\" xlink:href=\"#DejaVuSans-40\"/>\n      <use x=\"129.980469\" xlink:href=\"#DejaVuSans-112\"/>\n      <use x=\"193.457031\" xlink:href=\"#DejaVuSans-114\"/>\n      <use x=\"232.320312\" xlink:href=\"#DejaVuSans-101\"/>\n      <use x=\"293.84375\" xlink:href=\"#DejaVuSans-100\"/>\n      <use x=\"357.320312\" xlink:href=\"#DejaVuSans-105\"/>\n      <use x=\"385.103516\" xlink:href=\"#DejaVuSans-99\"/>\n      <use x=\"440.083984\" xlink:href=\"#DejaVuSans-116\"/>\n      <use x=\"479.292969\" xlink:href=\"#DejaVuSans-105\"/>\n      <use x=\"507.076172\" xlink:href=\"#DejaVuSans-111\"/>\n      <use x=\"568.257812\" xlink:href=\"#DejaVuSans-110\"/>\n      <use x=\"631.636719\" xlink:href=\"#DejaVuSans-41\"/>\n     </g>\n    </g>\n   </g>\n   <g id=\"matplotlib.axis_2\">\n    <g id=\"ytick_1\">\n     <g id=\"line2d_8\">\n      <defs>\n       <path d=\"M 0 0 \nL -3.5 0 \n\" id=\"m544248d4a6\" style=\"stroke:#000000;stroke-width:0.8;\"/>\n      </defs>\n      <g>\n       <use style=\"stroke:#000000;stroke-width:0.8;\" x=\"42.620312\" xlink:href=\"#m544248d4a6\" y=\"153.712556\"/>\n      </g>\n     </g>\n     <g id=\"text_9\">\n      <!-- −2 -->\n      <defs>\n       <path d=\"M 10.59375 35.5 \nL 73.1875 35.5 \nL 73.1875 27.203125 \nL 10.59375 27.203125 \nz\n\" id=\"DejaVuSans-8722\"/>\n      </defs>\n      <g transform=\"translate(20.878125 157.511775)scale(0.1 -0.1)\">\n       <use xlink:href=\"#DejaVuSans-8722\"/>\n       <use x=\"83.789062\" xlink:href=\"#DejaVuSans-50\"/>\n      </g>\n     </g>\n    </g>\n    <g id=\"ytick_2\">\n     <g id=\"line2d_9\">\n      <g>\n       <use style=\"stroke:#000000;stroke-width:0.8;\" x=\"42.620312\" xlink:href=\"#m544248d4a6\" y=\"128.06999\"/>\n      </g>\n     </g>\n     <g id=\"text_10\">\n      <!-- −1 -->\n      <g transform=\"translate(20.878125 131.869209)scale(0.1 -0.1)\">\n       <use xlink:href=\"#DejaVuSans-8722\"/>\n       <use x=\"83.789062\" xlink:href=\"#DejaVuSans-49\"/>\n      </g>\n     </g>\n    </g>\n    <g id=\"ytick_3\">\n     <g id=\"line2d_10\">\n      <g>\n       <use style=\"stroke:#000000;stroke-width:0.8;\" x=\"42.620312\" xlink:href=\"#m544248d4a6\" y=\"102.427425\"/>\n      </g>\n     </g>\n     <g id=\"text_11\">\n      <!-- 0 -->\n      <g transform=\"translate(29.257812 106.226643)scale(0.1 -0.1)\">\n       <use xlink:href=\"#DejaVuSans-48\"/>\n      </g>\n     </g>\n    </g>\n    <g id=\"ytick_4\">\n     <g id=\"line2d_11\">\n      <g>\n       <use style=\"stroke:#000000;stroke-width:0.8;\" x=\"42.620312\" xlink:href=\"#m544248d4a6\" y=\"76.784859\"/>\n      </g>\n     </g>\n     <g id=\"text_12\">\n      <!-- 1 -->\n      <g transform=\"translate(29.257812 80.584078)scale(0.1 -0.1)\">\n       <use xlink:href=\"#DejaVuSans-49\"/>\n      </g>\n     </g>\n    </g>\n    <g id=\"ytick_5\">\n     <g id=\"line2d_12\">\n      <g>\n       <use style=\"stroke:#000000;stroke-width:0.8;\" x=\"42.620312\" xlink:href=\"#m544248d4a6\" y=\"51.142293\"/>\n      </g>\n     </g>\n     <g id=\"text_13\">\n      <!-- 2 -->\n      <g transform=\"translate(29.257812 54.941512)scale(0.1 -0.1)\">\n       <use xlink:href=\"#DejaVuSans-50\"/>\n      </g>\n     </g>\n    </g>\n    <g id=\"ytick_6\">\n     <g id=\"line2d_13\">\n      <g>\n       <use style=\"stroke:#000000;stroke-width:0.8;\" x=\"42.620312\" xlink:href=\"#m544248d4a6\" y=\"25.499728\"/>\n      </g>\n     </g>\n     <g id=\"text_14\">\n      <!-- 3 -->\n      <g transform=\"translate(29.257812 29.298946)scale(0.1 -0.1)\">\n       <use xlink:href=\"#DejaVuSans-51\"/>\n      </g>\n     </g>\n    </g>\n    <g id=\"text_15\">\n     <!-- residual -->\n     <defs>\n      <path d=\"M 44.28125 53.078125 \nL 44.28125 44.578125 \nQ 40.484375 46.53125 36.375 47.5 \nQ 32.28125 48.484375 27.875 48.484375 \nQ 21.1875 48.484375 17.84375 46.4375 \nQ 14.5 44.390625 14.5 40.28125 \nQ 14.5 37.15625 16.890625 35.375 \nQ 19.28125 33.59375 26.515625 31.984375 \nL 29.59375 31.296875 \nQ 39.15625 29.25 43.1875 25.515625 \nQ 47.21875 21.78125 47.21875 15.09375 \nQ 47.21875 7.46875 41.1875 3.015625 \nQ 35.15625 -1.421875 24.609375 -1.421875 \nQ 20.21875 -1.421875 15.453125 -0.5625 \nQ 10.6875 0.296875 5.421875 2 \nL 5.421875 11.28125 \nQ 10.40625 8.6875 15.234375 7.390625 \nQ 20.0625 6.109375 24.8125 6.109375 \nQ 31.15625 6.109375 34.5625 8.28125 \nQ 37.984375 10.453125 37.984375 14.40625 \nQ 37.984375 18.0625 35.515625 20.015625 \nQ 33.0625 21.96875 24.703125 23.78125 \nL 21.578125 24.515625 \nQ 13.234375 26.265625 9.515625 29.90625 \nQ 5.8125 33.546875 5.8125 39.890625 \nQ 5.8125 47.609375 11.28125 51.796875 \nQ 16.75 56 26.8125 56 \nQ 31.78125 56 36.171875 55.265625 \nQ 40.578125 54.546875 44.28125 53.078125 \nz\n\" id=\"DejaVuSans-115\"/>\n      <path d=\"M 8.5 21.578125 \nL 8.5 54.6875 \nL 17.484375 54.6875 \nL 17.484375 21.921875 \nQ 17.484375 14.15625 20.5 10.265625 \nQ 23.53125 6.390625 29.59375 6.390625 \nQ 36.859375 6.390625 41.078125 11.03125 \nQ 45.3125 15.671875 45.3125 23.6875 \nL 45.3125 54.6875 \nL 54.296875 54.6875 \nL 54.296875 0 \nL 45.3125 0 \nL 45.3125 8.40625 \nQ 42.046875 3.421875 37.71875 1 \nQ 33.40625 -1.421875 27.6875 -1.421875 \nQ 18.265625 -1.421875 13.375 4.4375 \nQ 8.5 10.296875 8.5 21.578125 \nz\nM 31.109375 56 \nz\n\" id=\"DejaVuSans-117\"/>\n      <path d=\"M 34.28125 27.484375 \nQ 23.390625 27.484375 19.1875 25 \nQ 14.984375 22.515625 14.984375 16.5 \nQ 14.984375 11.71875 18.140625 8.90625 \nQ 21.296875 6.109375 26.703125 6.109375 \nQ 34.1875 6.109375 38.703125 11.40625 \nQ 43.21875 16.703125 43.21875 25.484375 \nL 43.21875 27.484375 \nz\nM 52.203125 31.203125 \nL 52.203125 0 \nL 43.21875 0 \nL 43.21875 8.296875 \nQ 40.140625 3.328125 35.546875 0.953125 \nQ 30.953125 -1.421875 24.3125 -1.421875 \nQ 15.921875 -1.421875 10.953125 3.296875 \nQ 6 8.015625 6 15.921875 \nQ 6 25.140625 12.171875 29.828125 \nQ 18.359375 34.515625 30.609375 34.515625 \nL 43.21875 34.515625 \nL 43.21875 35.40625 \nQ 43.21875 41.609375 39.140625 45 \nQ 35.0625 48.390625 27.6875 48.390625 \nQ 23 48.390625 18.546875 47.265625 \nQ 14.109375 46.140625 10.015625 43.890625 \nL 10.015625 52.203125 \nQ 14.9375 54.109375 19.578125 55.046875 \nQ 24.21875 56 28.609375 56 \nQ 40.484375 56 46.34375 49.84375 \nQ 52.203125 43.703125 52.203125 31.203125 \nz\n\" id=\"DejaVuSans-97\"/>\n      <path d=\"M 9.421875 75.984375 \nL 18.40625 75.984375 \nL 18.40625 0 \nL 9.421875 0 \nz\n\" id=\"DejaVuSans-108\"/>\n     </defs>\n     <g transform=\"translate(14.798437 108.549375)rotate(-90)scale(0.1 -0.1)\">\n      <use xlink:href=\"#DejaVuSans-114\"/>\n      <use x=\"38.863281\" xlink:href=\"#DejaVuSans-101\"/>\n      <use x=\"100.386719\" xlink:href=\"#DejaVuSans-115\"/>\n      <use x=\"152.486328\" xlink:href=\"#DejaVuSans-105\"/>\n      <use x=\"180.269531\" xlink:href=\"#DejaVuSans-100\"/>\n      <use x=\"243.746094\" xlink:href=\"#DejaVuSans-117\"/>\n      <use x=\"307.125\" xlink:href=\"#DejaVuSans-97\"/>\n      <use x=\"368.404297\" xlink:href=\"#DejaVuSans-108\"/>\n     </g>\n    </g>\n   </g>\n   <g id=\"line2d_14\">\n    <defs>\n     <path d=\"M 0 3 \nC 0.795609 3 1.55874 2.683901 2.12132 2.12132 \nC 2.683901 1.55874 3 0.795609 3 0 \nC 3 -0.795609 2.683901 -1.55874 2.12132 -2.12132 \nC 1.55874 -2.683901 0.795609 -3 0 -3 \nC -0.795609 -3 -1.55874 -2.683901 -2.12132 -2.12132 \nC -2.683901 -1.55874 -3 -0.795609 -3 0 \nC -3 0.795609 -2.683901 1.55874 -2.12132 2.12132 \nC -1.55874 2.683901 -0.795609 3 0 3 \nz\n\" id=\"m615031cef6\" style=\"stroke:#1f77b4;\"/>\n    </defs>\n    <g clip-path=\"url(#p6982d34555)\">\n     <use style=\"fill:#1f77b4;stroke:#1f77b4;\" x=\"121.872243\" xlink:href=\"#m615031cef6\" y=\"101.274699\"/>\n     <use style=\"fill:#1f77b4;stroke:#1f77b4;\" x=\"89.377557\" xlink:href=\"#m615031cef6\" y=\"95.735014\"/>\n     <use style=\"fill:#1f77b4;stroke:#1f77b4;\" x=\"86.813422\" xlink:href=\"#m615031cef6\" y=\"83.00382\"/>\n     <use style=\"fill:#1f77b4;stroke:#1f77b4;\" x=\"62.988129\" xlink:href=\"#m615031cef6\" y=\"82.495077\"/>\n     <use style=\"fill:#1f77b4;stroke:#1f77b4;\" x=\"112.982944\" xlink:href=\"#m615031cef6\" y=\"95.461599\"/>\n     <use style=\"fill:#1f77b4;stroke:#1f77b4;\" x=\"95.088733\" xlink:href=\"#m615031cef6\" y=\"106.118947\"/>\n     <use style=\"fill:#1f77b4;stroke:#1f77b4;\" x=\"86.726943\" xlink:href=\"#m615031cef6\" y=\"101.166501\"/>\n     <use style=\"fill:#1f77b4;stroke:#1f77b4;\" x=\"105.677875\" xlink:href=\"#m615031cef6\" y=\"109.717531\"/>\n     <use style=\"fill:#1f77b4;stroke:#1f77b4;\" x=\"64.313954\" xlink:href=\"#m615031cef6\" y=\"95.828669\"/>\n     <use style=\"fill:#1f77b4;stroke:#1f77b4;\" x=\"111.393202\" xlink:href=\"#m615031cef6\" y=\"101.989128\"/>\n     <use style=\"fill:#1f77b4;stroke:#1f77b4;\" x=\"95.025414\" xlink:href=\"#m615031cef6\" y=\"76.545898\"/>\n     <use style=\"fill:#1f77b4;stroke:#1f77b4;\" x=\"136.742918\" xlink:href=\"#m615031cef6\" y=\"109.038068\"/>\n     <use style=\"fill:#1f77b4;stroke:#1f77b4;\" x=\"97.601396\" xlink:href=\"#m615031cef6\" y=\"99.049759\"/>\n     <use style=\"fill:#1f77b4;stroke:#1f77b4;\" x=\"114.470651\" xlink:href=\"#m615031cef6\" y=\"98.261013\"/>\n     <use style=\"fill:#1f77b4;stroke:#1f77b4;\" x=\"101.370676\" xlink:href=\"#m615031cef6\" y=\"127.224375\"/>\n     <use style=\"fill:#1f77b4;stroke:#1f77b4;\" x=\"104.498405\" xlink:href=\"#m615031cef6\" y=\"104.761468\"/>\n     <use style=\"fill:#1f77b4;stroke:#1f77b4;\" x=\"117.970909\" xlink:href=\"#m615031cef6\" y=\"125.946798\"/>\n     <use style=\"fill:#1f77b4;stroke:#1f77b4;\" x=\"108.151158\" xlink:href=\"#m615031cef6\" y=\"118.623171\"/>\n     <use style=\"fill:#1f77b4;stroke:#1f77b4;\" x=\"80.45131\" xlink:href=\"#m615031cef6\" y=\"100.739158\"/>\n     <use style=\"fill:#1f77b4;stroke:#1f77b4;\" x=\"84.741282\" xlink:href=\"#m615031cef6\" y=\"103.156346\"/>\n     <use style=\"fill:#1f77b4;stroke:#1f77b4;\" x=\"131.953183\" xlink:href=\"#m615031cef6\" y=\"105.931471\"/>\n     <use style=\"fill:#1f77b4;stroke:#1f77b4;\" x=\"96.88919\" xlink:href=\"#m615031cef6\" y=\"96.394891\"/>\n     <use style=\"fill:#1f77b4;stroke:#1f77b4;\" x=\"113.550154\" xlink:href=\"#m615031cef6\" y=\"109.556319\"/>\n     <use style=\"fill:#1f77b4;stroke:#1f77b4;\" x=\"110.766182\" xlink:href=\"#m615031cef6\" y=\"113.899679\"/>\n     <use style=\"fill:#1f77b4;stroke:#1f77b4;\" x=\"103.274646\" xlink:href=\"#m615031cef6\" y=\"96.818956\"/>\n     <use style=\"fill:#1f77b4;stroke:#1f77b4;\" x=\"76.408042\" xlink:href=\"#m615031cef6\" y=\"115.292323\"/>\n     <use style=\"fill:#1f77b4;stroke:#1f77b4;\" x=\"98.238126\" xlink:href=\"#m615031cef6\" y=\"110.589373\"/>\n     <use style=\"fill:#1f77b4;stroke:#1f77b4;\" x=\"69.926117\" xlink:href=\"#m615031cef6\" y=\"82.060256\"/>\n     <use style=\"fill:#1f77b4;stroke:#1f77b4;\" x=\"107.363353\" xlink:href=\"#m615031cef6\" y=\"118.556406\"/>\n     <use style=\"fill:#1f77b4;stroke:#1f77b4;\" x=\"87.662661\" xlink:href=\"#m615031cef6\" y=\"98.860027\"/>\n     <use style=\"fill:#1f77b4;stroke:#1f77b4;\" x=\"93.625288\" xlink:href=\"#m615031cef6\" y=\"92.098017\"/>\n     <use style=\"fill:#1f77b4;stroke:#1f77b4;\" x=\"94.37441\" xlink:href=\"#m615031cef6\" y=\"110.035364\"/>\n     <use style=\"fill:#1f77b4;stroke:#1f77b4;\" x=\"77.71334\" xlink:href=\"#m615031cef6\" y=\"101.444915\"/>\n     <use style=\"fill:#1f77b4;stroke:#1f77b4;\" x=\"93.302068\" xlink:href=\"#m615031cef6\" y=\"114.750812\"/>\n     <use style=\"fill:#1f77b4;stroke:#1f77b4;\" x=\"109.574324\" xlink:href=\"#m615031cef6\" y=\"107.719379\"/>\n     <use style=\"fill:#1f77b4;stroke:#1f77b4;\" x=\"101.6944\" xlink:href=\"#m615031cef6\" y=\"95.991005\"/>\n     <use style=\"fill:#1f77b4;stroke:#1f77b4;\" x=\"88.569268\" xlink:href=\"#m615031cef6\" y=\"96.691844\"/>\n     <use style=\"fill:#1f77b4;stroke:#1f77b4;\" x=\"87.217035\" xlink:href=\"#m615031cef6\" y=\"102.607487\"/>\n     <use style=\"fill:#1f77b4;stroke:#1f77b4;\" x=\"83.554515\" xlink:href=\"#m615031cef6\" y=\"102.199192\"/>\n     <use style=\"fill:#1f77b4;stroke:#1f77b4;\" x=\"60.374858\" xlink:href=\"#m615031cef6\" y=\"106.732439\"/>\n     <use style=\"fill:#1f77b4;stroke:#1f77b4;\" x=\"83.539519\" xlink:href=\"#m615031cef6\" y=\"96.21563\"/>\n     <use style=\"fill:#1f77b4;stroke:#1f77b4;\" x=\"94.839782\" xlink:href=\"#m615031cef6\" y=\"101.759446\"/>\n     <use style=\"fill:#1f77b4;stroke:#1f77b4;\" x=\"112.136683\" xlink:href=\"#m615031cef6\" y=\"96.647252\"/>\n     <use style=\"fill:#1f77b4;stroke:#1f77b4;\" x=\"99.483805\" xlink:href=\"#m615031cef6\" y=\"92.78597\"/>\n     <use style=\"fill:#1f77b4;stroke:#1f77b4;\" x=\"105.067054\" xlink:href=\"#m615031cef6\" y=\"112.765056\"/>\n     <use style=\"fill:#1f77b4;stroke:#1f77b4;\" x=\"90.932739\" xlink:href=\"#m615031cef6\" y=\"108.678203\"/>\n     <use style=\"fill:#1f77b4;stroke:#1f77b4;\" x=\"134.233783\" xlink:href=\"#m615031cef6\" y=\"120.15547\"/>\n     <use style=\"fill:#1f77b4;stroke:#1f77b4;\" x=\"114.855197\" xlink:href=\"#m615031cef6\" y=\"130.406873\"/>\n     <use style=\"fill:#1f77b4;stroke:#1f77b4;\" x=\"104.941334\" xlink:href=\"#m615031cef6\" y=\"112.858766\"/>\n     <use style=\"fill:#1f77b4;stroke:#1f77b4;\" x=\"101.587673\" xlink:href=\"#m615031cef6\" y=\"89.500503\"/>\n     <use style=\"fill:#1f77b4;stroke:#1f77b4;\" x=\"368.509676\" xlink:href=\"#m615031cef6\" y=\"103.723087\"/>\n     <use style=\"fill:#1f77b4;stroke:#1f77b4;\" x=\"400.29808\" xlink:href=\"#m615031cef6\" y=\"108.978287\"/>\n     <use style=\"fill:#1f77b4;stroke:#1f77b4;\" x=\"375.861059\" xlink:href=\"#m615031cef6\" y=\"88.989279\"/>\n     <use style=\"fill:#1f77b4;stroke:#1f77b4;\" x=\"366.521977\" xlink:href=\"#m615031cef6\" y=\"100.349166\"/>\n     <use style=\"fill:#1f77b4;stroke:#1f77b4;\" x=\"415.465767\" xlink:href=\"#m615031cef6\" y=\"119.754475\"/>\n     <use style=\"fill:#1f77b4;stroke:#1f77b4;\" x=\"342.988498\" xlink:href=\"#m615031cef6\" y=\"104.825552\"/>\n     <use style=\"fill:#1f77b4;stroke:#1f77b4;\" x=\"360.381682\" xlink:href=\"#m615031cef6\" y=\"87.401959\"/>\n     <use style=\"fill:#1f77b4;stroke:#1f77b4;\" x=\"323.667243\" xlink:href=\"#m615031cef6\" y=\"81.297252\"/>\n     <use style=\"fill:#1f77b4;stroke:#1f77b4;\" x=\"376.930089\" xlink:href=\"#m615031cef6\" y=\"102.550634\"/>\n     <use style=\"fill:#1f77b4;stroke:#1f77b4;\" x=\"343.457398\" xlink:href=\"#m615031cef6\" y=\"99.140223\"/>\n     <use style=\"fill:#1f77b4;stroke:#1f77b4;\" x=\"360.863197\" xlink:href=\"#m615031cef6\" y=\"128.797125\"/>\n     <use style=\"fill:#1f77b4;stroke:#1f77b4;\" x=\"384.97364\" xlink:href=\"#m615031cef6\" y=\"95.166041\"/>\n     <use style=\"fill:#1f77b4;stroke:#1f77b4;\" x=\"343.850081\" xlink:href=\"#m615031cef6\" y=\"100.982774\"/>\n     <use style=\"fill:#1f77b4;stroke:#1f77b4;\" x=\"326.213191\" xlink:href=\"#m615031cef6\" y=\"76.769343\"/>\n     <use style=\"fill:#1f77b4;stroke:#1f77b4;\" x=\"374.537836\" xlink:href=\"#m615031cef6\" y=\"121.673522\"/>\n     <use style=\"fill:#1f77b4;stroke:#1f77b4;\" x=\"341.823143\" xlink:href=\"#m615031cef6\" y=\"44.974036\"/>\n     <use style=\"fill:#1f77b4;stroke:#1f77b4;\" x=\"390.236686\" xlink:href=\"#m615031cef6\" y=\"113.376491\"/>\n     <use style=\"fill:#1f77b4;stroke:#1f77b4;\" x=\"386.793548\" xlink:href=\"#m615031cef6\" y=\"147.596735\"/>\n     <use style=\"fill:#1f77b4;stroke:#1f77b4;\" x=\"383.555611\" xlink:href=\"#m615031cef6\" y=\"116.667533\"/>\n     <use style=\"fill:#1f77b4;stroke:#1f77b4;\" x=\"368.96958\" xlink:href=\"#m615031cef6\" y=\"112.899558\"/>\n     <use style=\"fill:#1f77b4;stroke:#1f77b4;\" x=\"383.714662\" xlink:href=\"#m615031cef6\" y=\"117.864616\"/>\n     <use style=\"fill:#1f77b4;stroke:#1f77b4;\" x=\"378.157862\" xlink:href=\"#m615031cef6\" y=\"134.067004\"/>\n     <use style=\"fill:#1f77b4;stroke:#1f77b4;\" x=\"352.933543\" xlink:href=\"#m615031cef6\" y=\"94.414745\"/>\n     <use style=\"fill:#1f77b4;stroke:#1f77b4;\" x=\"354.030869\" xlink:href=\"#m615031cef6\" y=\"89.509835\"/>\n     <use style=\"fill:#1f77b4;stroke:#1f77b4;\" x=\"369.168009\" xlink:href=\"#m615031cef6\" y=\"99.698397\"/>\n     <use style=\"fill:#1f77b4;stroke:#1f77b4;\" x=\"360.062931\" xlink:href=\"#m615031cef6\" y=\"72.731447\"/>\n     <use style=\"fill:#1f77b4;stroke:#1f77b4;\" x=\"368.975986\" xlink:href=\"#m615031cef6\" y=\"131.230435\"/>\n     <use style=\"fill:#1f77b4;stroke:#1f77b4;\" x=\"346.356424\" xlink:href=\"#m615031cef6\" y=\"108.585824\"/>\n     <use style=\"fill:#1f77b4;stroke:#1f77b4;\" x=\"340.50304\" xlink:href=\"#m615031cef6\" y=\"96.387669\"/>\n     <use style=\"fill:#1f77b4;stroke:#1f77b4;\" x=\"371.554249\" xlink:href=\"#m615031cef6\" y=\"116.089275\"/>\n     <use style=\"fill:#1f77b4;stroke:#1f77b4;\" x=\"350.578307\" xlink:href=\"#m615031cef6\" y=\"98.627351\"/>\n     <use style=\"fill:#1f77b4;stroke:#1f77b4;\" x=\"391.942397\" xlink:href=\"#m615031cef6\" y=\"84.496644\"/>\n     <use style=\"fill:#1f77b4;stroke:#1f77b4;\" x=\"395.134825\" xlink:href=\"#m615031cef6\" y=\"82.727607\"/>\n     <use style=\"fill:#1f77b4;stroke:#1f77b4;\" x=\"358.068028\" xlink:href=\"#m615031cef6\" y=\"128.649824\"/>\n     <use style=\"fill:#1f77b4;stroke:#1f77b4;\" x=\"375.749489\" xlink:href=\"#m615031cef6\" y=\"86.307236\"/>\n     <use style=\"fill:#1f77b4;stroke:#1f77b4;\" x=\"369.789248\" xlink:href=\"#m615031cef6\" y=\"64.032356\"/>\n     <use style=\"fill:#1f77b4;stroke:#1f77b4;\" x=\"388.12919\" xlink:href=\"#m615031cef6\" y=\"95.742862\"/>\n     <use style=\"fill:#1f77b4;stroke:#1f77b4;\" x=\"346.041801\" xlink:href=\"#m615031cef6\" y=\"92.736481\"/>\n     <use style=\"fill:#1f77b4;stroke:#1f77b4;\" x=\"381.671833\" xlink:href=\"#m615031cef6\" y=\"114.651917\"/>\n     <use style=\"fill:#1f77b4;stroke:#1f77b4;\" x=\"354.953536\" xlink:href=\"#m615031cef6\" y=\"86.224323\"/>\n     <use style=\"fill:#1f77b4;stroke:#1f77b4;\" x=\"381.761551\" xlink:href=\"#m615031cef6\" y=\"102.619107\"/>\n     <use style=\"fill:#1f77b4;stroke:#1f77b4;\" x=\"356.489623\" xlink:href=\"#m615031cef6\" y=\"112.658034\"/>\n     <use style=\"fill:#1f77b4;stroke:#1f77b4;\" x=\"382.388056\" xlink:href=\"#m615031cef6\" y=\"162.867273\"/>\n     <use style=\"fill:#1f77b4;stroke:#1f77b4;\" x=\"366.922955\" xlink:href=\"#m615031cef6\" y=\"89.941513\"/>\n     <use style=\"fill:#1f77b4;stroke:#1f77b4;\" x=\"361.609999\" xlink:href=\"#m615031cef6\" y=\"98.863873\"/>\n     <use style=\"fill:#1f77b4;stroke:#1f77b4;\" x=\"320.511666\" xlink:href=\"#m615031cef6\" y=\"14.612727\"/>\n     <use style=\"fill:#1f77b4;stroke:#1f77b4;\" x=\"377.400667\" xlink:href=\"#m615031cef6\" y=\"135.388081\"/>\n     <use style=\"fill:#1f77b4;stroke:#1f77b4;\" x=\"370.464925\" xlink:href=\"#m615031cef6\" y=\"70.371724\"/>\n     <use style=\"fill:#1f77b4;stroke:#1f77b4;\" x=\"374.779566\" xlink:href=\"#m615031cef6\" y=\"105.068695\"/>\n     <use style=\"fill:#1f77b4;stroke:#1f77b4;\" x=\"342.553908\" xlink:href=\"#m615031cef6\" y=\"123.522158\"/>\n    </g>\n   </g>\n   <g id=\"line2d_15\">\n    <path clip-path=\"url(#p6982d34555)\" d=\"M 121.872243 102.427425 \nL 89.377557 102.427425 \nL 86.813422 102.427425 \nL 62.988129 102.427425 \nL 112.982944 102.427425 \nL 95.088733 102.427425 \nL 86.726943 102.427425 \nL 105.677875 102.427425 \nL 64.313954 102.427425 \nL 111.393202 102.427425 \nL 95.025414 102.427425 \nL 136.742918 102.427425 \nL 97.601396 102.427425 \nL 114.470651 102.427425 \nL 101.370676 102.427425 \nL 104.498405 102.427425 \nL 117.970909 102.427425 \nL 108.151158 102.427425 \nL 80.45131 102.427425 \nL 84.741282 102.427425 \nL 131.953183 102.427425 \nL 96.88919 102.427425 \nL 113.550154 102.427425 \nL 110.766182 102.427425 \nL 103.274646 102.427425 \nL 76.408042 102.427425 \nL 98.238126 102.427425 \nL 69.926117 102.427425 \nL 107.363353 102.427425 \nL 87.662661 102.427425 \nL 93.625288 102.427425 \nL 94.37441 102.427425 \nL 77.71334 102.427425 \nL 93.302068 102.427425 \nL 109.574324 102.427425 \nL 101.6944 102.427425 \nL 88.569268 102.427425 \nL 87.217035 102.427425 \nL 83.554515 102.427425 \nL 60.374858 102.427425 \nL 83.539519 102.427425 \nL 94.839782 102.427425 \nL 112.136683 102.427425 \nL 99.483805 102.427425 \nL 105.067054 102.427425 \nL 90.932739 102.427425 \nL 134.233783 102.427425 \nL 114.855197 102.427425 \nL 104.941334 102.427425 \nL 101.587673 102.427425 \nL 368.509676 102.427425 \nL 400.29808 102.427425 \nL 375.861059 102.427425 \nL 366.521977 102.427425 \nL 415.465767 102.427425 \nL 342.988498 102.427425 \nL 360.381682 102.427425 \nL 323.667243 102.427425 \nL 376.930089 102.427425 \nL 343.457398 102.427425 \nL 360.863197 102.427425 \nL 384.97364 102.427425 \nL 343.850081 102.427425 \nL 326.213191 102.427425 \nL 374.537836 102.427425 \nL 341.823143 102.427425 \nL 390.236686 102.427425 \nL 386.793548 102.427425 \nL 383.555611 102.427425 \nL 368.96958 102.427425 \nL 383.714662 102.427425 \nL 378.157862 102.427425 \nL 352.933543 102.427425 \nL 354.030869 102.427425 \nL 369.168009 102.427425 \nL 360.062931 102.427425 \nL 368.975986 102.427425 \nL 346.356424 102.427425 \nL 340.50304 102.427425 \nL 371.554249 102.427425 \nL 350.578307 102.427425 \nL 391.942397 102.427425 \nL 395.134825 102.427425 \nL 358.068028 102.427425 \nL 375.749489 102.427425 \nL 369.789248 102.427425 \nL 388.12919 102.427425 \nL 346.041801 102.427425 \nL 381.671833 102.427425 \nL 354.953536 102.427425 \nL 381.761551 102.427425 \nL 356.489623 102.427425 \nL 382.388056 102.427425 \nL 366.922955 102.427425 \nL 361.609999 102.427425 \nL 320.511666 102.427425 \nL 377.400667 102.427425 \nL 370.464925 102.427425 \nL 374.779566 102.427425 \nL 342.553908 102.427425 \n\" style=\"fill:none;stroke:#ff7f0e;stroke-linecap:square;stroke-width:1.5;\"/>\n   </g>\n   <g id=\"patch_3\">\n    <path d=\"M 42.620312 170.28 \nL 42.620312 7.2 \n\" style=\"fill:none;stroke:#000000;stroke-linecap:square;stroke-linejoin:miter;stroke-width:0.8;\"/>\n   </g>\n   <g id=\"patch_4\">\n    <path d=\"M 433.220313 170.28 \nL 433.220313 7.2 \n\" style=\"fill:none;stroke:#000000;stroke-linecap:square;stroke-linejoin:miter;stroke-width:0.8;\"/>\n   </g>\n   <g id=\"patch_5\">\n    <path d=\"M 42.620312 170.28 \nL 433.220313 170.28 \n\" style=\"fill:none;stroke:#000000;stroke-linecap:square;stroke-linejoin:miter;stroke-width:0.8;\"/>\n   </g>\n   <g id=\"patch_6\">\n    <path d=\"M 42.620312 7.2 \nL 433.220313 7.2 \n\" style=\"fill:none;stroke:#000000;stroke-linecap:square;stroke-linejoin:miter;stroke-width:0.8;\"/>\n   </g>\n  </g>\n </g>\n <defs>\n  <clipPath id=\"p6982d34555\">\n   <rect height=\"163.08\" width=\"390.6\" x=\"42.620312\" y=\"7.2\"/>\n  </clipPath>\n </defs>\n</svg>\n"
          },
          "metadata": {
            "needs_background": "light"
          }
        }
      ]
    },
    {
      "cell_type": "markdown",
      "metadata": {
        "id": "wIdOshf6mg0I"
      },
      "source": [
        "As we can see here, the residuals are clumped around the y values around 3.75 and 1.3, with different variations. Since the variation differs between the 2 clumps, it is likely that our model is not a good fit for the data. In addition, the residuals around 1.3 are less variable than the residuals around 3.75 meaning they are not normally distributed and our model is not a good fit."
      ]
    },
    {
      "cell_type": "markdown",
      "metadata": {
        "id": "UvrVjww2br5X"
      },
      "source": [
        "# Logistic regression\n",
        "\n",
        "The approach of binning binary data and fitting to a linear regression model has some major pitfalls that we have discussed. In most cases this is not the preferred way to analyze binary data. One of these is the logistic regression model, which models a binary variable as a bernoulli random variable where the parameter $q$ (the chance to get $y=1$) depends on $x$ according to the inverse logistic function. "
      ]
    },
    {
      "cell_type": "markdown",
      "metadata": {
        "id": "Zt8A9L8DhyK3"
      },
      "source": [
        "2.1 Consider the data on support for same-sex marriage. Fit the data to a logistic regression model that includes, age, gender, whether someone knows someone who is identifies as gay and race. The following code will set up the data for you:\n",
        "\n",
        "\n",
        "\n",
        "```\n",
        "data = pd.read_csv(\"https://raw.githubusercontent.com/avehtari/ROS-Examples/master/Gay/data/naes04.csv\")\n",
        "data = data.dropna()\n",
        "# make new column using get dummies \n",
        "data_new = pd.get_dummies(data,drop_first=True,columns = [\"gayFavorStateMarriage\",\"gender\",\"gayKnowSomeone\",\"race\"]) \n",
        "data_x = data_new[[\"age\",\"gender_Male\",\"gayKnowSomeone_Yes\",\"race_Hispanic\",\"race_Other\",\"race_White\"]]\n",
        "data_x[\"z_age\"] = (data[\"age\"].values - np.mean(data[\"age\"].values ))/np.std(data[\"age\"].values )\n",
        "data_x = data_x.drop(columns =[\"age\"])\n",
        "\n",
        "y = np.rint(data_new.gayFavorStateMarriage_Yes.values)\n",
        "model = sm.Logit(y, sm.add_constant(data_x.to_numpy()))\n",
        "results = model.fit()\n",
        "print(results.summary())\n",
        "\n",
        "```\n",
        "\n",
        "Note that age has been standardized here. \n",
        "\n",
        "What is the largest factor determining someones support for same sex marriage? What does this tell us about the association between race and support for same-sex marriage? \n",
        "\n"
      ]
    },
    {
      "cell_type": "code",
      "metadata": {
        "id": "soMUpgLckOpV",
        "colab": {
          "base_uri": "https://localhost:8080/"
        },
        "outputId": "7f75c6de-4c95-4c7d-b845-c8234e73c85d"
      },
      "source": [
        "# 2.1\n",
        "\n",
        "data = pd.read_csv(\"https://raw.githubusercontent.com/avehtari/ROS-Examples/master/Gay/data/naes04.csv\")\n",
        "data = data.dropna()\n",
        "# make new column using get dummies \n",
        "data_new = pd.get_dummies(data,drop_first=True,columns = [\"gayFavorStateMarriage\",\"gender\",\"gayKnowSomeone\",\"race\"]) \n",
        "data_x = data_new[[\"age\",\"gender_Male\",\"gayKnowSomeone_Yes\",\"race_Hispanic\",\"race_Other\",\"race_White\"]]\n",
        "data_x[\"z_age\"] = (data[\"age\"].values - np.mean(data[\"age\"].values ))/np.std(data[\"age\"].values )\n",
        "data_x = data_x.drop(columns =[\"age\"])\n",
        "\n",
        "y = np.rint(data_new.gayFavorStateMarriage_Yes.values)\n",
        "model = sm.Logit(y, sm.add_constant(data_x.to_numpy()))\n",
        "results = model.fit()\n",
        "print(results.summary())"
      ],
      "execution_count": null,
      "outputs": [
        {
          "output_type": "stream",
          "name": "stderr",
          "text": [
            "/usr/local/lib/python3.7/dist-packages/ipykernel_launcher.py:8: SettingWithCopyWarning: \n",
            "A value is trying to be set on a copy of a slice from a DataFrame.\n",
            "Try using .loc[row_indexer,col_indexer] = value instead\n",
            "\n",
            "See the caveats in the documentation: https://pandas.pydata.org/pandas-docs/stable/user_guide/indexing.html#returning-a-view-versus-a-copy\n",
            "  \n"
          ]
        },
        {
          "output_type": "stream",
          "name": "stdout",
          "text": [
            "Optimization terminated successfully.\n",
            "         Current function value: 0.569207\n",
            "         Iterations 6\n",
            "                           Logit Regression Results                           \n",
            "==============================================================================\n",
            "Dep. Variable:                      y   No. Observations:                16205\n",
            "Model:                          Logit   Df Residuals:                    16198\n",
            "Method:                           MLE   Df Model:                            6\n",
            "Date:                Thu, 18 Nov 2021   Pseudo R-squ.:                 0.09547\n",
            "Time:                        16:29:14   Log-Likelihood:                -9224.0\n",
            "converged:                       True   LL-Null:                       -10198.\n",
            "Covariance Type:            nonrobust   LLR p-value:                     0.000\n",
            "==============================================================================\n",
            "                 coef    std err          z      P>|z|      [0.025      0.975]\n",
            "------------------------------------------------------------------------------\n",
            "const         -1.7666      0.072    -24.402      0.000      -1.908      -1.625\n",
            "x1            -0.2992      0.036     -8.209      0.000      -0.371      -0.228\n",
            "x2             1.2333      0.037     33.205      0.000       1.161       1.306\n",
            "x3             0.2807      0.094      2.983      0.003       0.096       0.465\n",
            "x4             0.3738      0.106      3.538      0.000       0.167       0.581\n",
            "x5             0.5060      0.071      7.136      0.000       0.367       0.645\n",
            "x6            -0.3535      0.020    -17.959      0.000      -0.392      -0.315\n",
            "==============================================================================\n"
          ]
        }
      ]
    },
    {
      "cell_type": "code",
      "metadata": {
        "colab": {
          "base_uri": "https://localhost:8080/"
        },
        "id": "sr0X8IcYp3vz",
        "outputId": "8835a20c-34dd-4f32-ca6c-bef15c4dbf66"
      },
      "source": [
        "x = 1.23/4\n",
        "x"
      ],
      "execution_count": null,
      "outputs": [
        {
          "output_type": "execute_result",
          "data": {
            "text/plain": [
              "0.3075"
            ]
          },
          "metadata": {},
          "execution_count": 5
        }
      ]
    },
    {
      "cell_type": "markdown",
      "metadata": {
        "id": "RX7GCZkRpC-o"
      },
      "source": [
        "Here, we can see that gender has the largest impact on whether someone supports gay marriage. When all other variables are held constant, being a man increases the support for gay marriage by at most 31%. For race, it seems that being race \"other\" has the most significant impact on gay marriage support than the other races. Furthermore, being race \"other\" and Hispanic increases support while being White decreases support. "
      ]
    }
  ]
}